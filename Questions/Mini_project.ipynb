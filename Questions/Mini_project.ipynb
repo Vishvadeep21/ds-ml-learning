{
 "cells": [
  {
   "cell_type": "code",
   "execution_count": null,
   "id": "197a429d-9c87-4e64-ba55-020a5f4d862b",
   "metadata": {},
   "outputs": [
    {
     "name": "stdin",
     "output_type": "stream",
     "text": [
      "\n",
      "Enter your choice:\n",
      "1. Print Contacts\n",
      "2. Add Contact\n",
      "3. Remove Contact\n",
      "4. Search Contact\n",
      "5. Exit\n",
      "Choice:  1\n"
     ]
    },
    {
     "name": "stdout",
     "output_type": "stream",
     "text": [
      "vishvadeep=>9389534860\n",
      "Sayyed Hussain=>1365468210\n",
      "Dev=>3288789512\n",
      "Prajwal=>2122154800\n"
     ]
    }
   ],
   "source": [
    "class Contact:\n",
    "    def __init__(self):\n",
    "        self.contacts = {\n",
    "            'Vishvadeep': 9389534860,\n",
    "            'Sayyed Hussain': 1365468210,\n",
    "            'Dev': 3288789512,\n",
    "            'Prajwal': 2122154800\n",
    "        }\n",
    "\n",
    "    def prt(self):\n",
    "        print(\"\\nContacts List:\")\n",
    "        for key, value in self.contacts.items():\n",
    "            print(f\"{key} => {value}\")\n",
    "\n",
    "    def add(self):\n",
    "        k = input(\"Enter the name for new contact: \")\n",
    "        v = input(\"Enter the phone number for new contact: \")\n",
    "        if k in self.contacts:\n",
    "            print(\"Contact already exists!\")\n",
    "        else:\n",
    "            self.contacts[k] = v\n",
    "            print(\"Contact added successfully!\")\n",
    "\n",
    "    def remove(self):\n",
    "        r = input(\"Enter the contact you want to remove: \")\n",
    "        if r not in self.contacts:\n",
    "            print(\"Contact doesn't exist!\")\n",
    "        else:\n",
    "            del self.contacts[r]\n",
    "            print(\"Contact removed successfully!\")\n",
    "\n",
    "    def query(self):\n",
    "        q = input(\"Enter the contact name to search: \")\n",
    "        if q not in self.contacts:\n",
    "            print(\"Contact doesn't exist!\")\n",
    "        else:\n",
    "            print(f\"{q} => {self.contacts[q]}\")\n",
    "\n",
    "    def menu(self):\n",
    "        while True:\n",
    "            try:\n",
    "                user = int(input('''\\nEnter your choice:\n",
    "1. Print Contacts\n",
    "2. Add Contact\n",
    "3. Remove Contact\n",
    "4. Search Contact\n",
    "5. Exit\n",
    "Choice: '''))\n",
    "                \n",
    "                match user:\n",
    "                    case 1:\n",
    "                        prt()\n",
    "                    case 2:\n",
    "                        add()\n",
    "                    case 3:\n",
    "                        remove()\n",
    "                    case 4:\n",
    "                        query()\n",
    "                    case 5:\n",
    "                        print(\"Exiting program. Goodbye!\")\n",
    "                        break\n",
    "                    case _:\n",
    "                        print(\"Invalid choice, please try again.\")\n",
    "\n",
    "            except ValueError:\n",
    "                print(\"Please enter a valid number.\")\n",
    "\n",
    "cls = Contact()\n",
    "cls.menu()"
   ]
  }
 ],
 "metadata": {
  "kernelspec": {
   "display_name": "Python 3 (ipykernel)",
   "language": "python",
   "name": "python3"
  },
  "language_info": {
   "codemirror_mode": {
    "name": "ipython",
    "version": 3
   },
   "file_extension": ".py",
   "mimetype": "text/x-python",
   "name": "python",
   "nbconvert_exporter": "python",
   "pygments_lexer": "ipython3",
   "version": "3.13.1"
  }
 },
 "nbformat": 4,
 "nbformat_minor": 5
}
