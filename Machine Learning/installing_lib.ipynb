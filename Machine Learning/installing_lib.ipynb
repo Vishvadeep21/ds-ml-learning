{
 "cells": [
  {
   "cell_type": "code",
   "execution_count": null,
   "id": "47840d6b-3164-4fd2-9a33-94ce058ed933",
   "metadata": {},
   "outputs": [],
   "source": [
    "!pip install numpy pandas matplotlib seaborn "
   ]
  },
  {
   "cell_type": "code",
   "execution_count": 3,
   "id": "9f9cdc28-7607-49da-9a59-002613fcc207",
   "metadata": {},
   "outputs": [
    {
     "name": "stdout",
     "output_type": "stream",
     "text": [
      "Requirement already satisfied: scikit-learn in c:\\users\\vishvadeep bhatia\\anaconda3\\envs\\virtual\\lib\\site-packages (1.7.0)\n",
      "Requirement already satisfied: numpy>=1.22.0 in c:\\users\\vishvadeep bhatia\\anaconda3\\envs\\virtual\\lib\\site-packages (from scikit-learn) (2.2.6)\n",
      "Requirement already satisfied: scipy>=1.8.0 in c:\\users\\vishvadeep bhatia\\anaconda3\\envs\\virtual\\lib\\site-packages (from scikit-learn) (1.15.3)\n",
      "Requirement already satisfied: joblib>=1.2.0 in c:\\users\\vishvadeep bhatia\\anaconda3\\envs\\virtual\\lib\\site-packages (from scikit-learn) (1.5.1)\n",
      "Requirement already satisfied: threadpoolctl>=3.1.0 in c:\\users\\vishvadeep bhatia\\anaconda3\\envs\\virtual\\lib\\site-packages (from scikit-learn) (3.6.0)\n"
     ]
    }
   ],
   "source": [
    "!pip install scikit-learn"
   ]
  },
  {
   "cell_type": "code",
   "execution_count": 2,
   "id": "09fcb48d-27fe-40fe-bc60-849ebd024f8f",
   "metadata": {},
   "outputs": [
    {
     "name": "stdout",
     "output_type": "stream",
     "text": [
      "Requirement already satisfied: plotly in c:\\users\\vishvadeep bhatia\\anaconda3\\envs\\virtual\\lib\\site-packages (6.2.0)\n",
      "Requirement already satisfied: narwhals>=1.15.1 in c:\\users\\vishvadeep bhatia\\anaconda3\\envs\\virtual\\lib\\site-packages (from plotly) (1.45.0)\n",
      "Requirement already satisfied: packaging in c:\\users\\vishvadeep bhatia\\anaconda3\\envs\\virtual\\lib\\site-packages (from plotly) (24.2)\n"
     ]
    }
   ],
   "source": [
    "!pip install plotly"
   ]
  }
 ],
 "metadata": {
  "kernelspec": {
   "display_name": "Python 3 (ipykernel)",
   "language": "python",
   "name": "python3"
  },
  "language_info": {
   "codemirror_mode": {
    "name": "ipython",
    "version": 3
   },
   "file_extension": ".py",
   "mimetype": "text/x-python",
   "name": "python",
   "nbconvert_exporter": "python",
   "pygments_lexer": "ipython3",
   "version": "3.13.2"
  }
 },
 "nbformat": 4,
 "nbformat_minor": 5
}
