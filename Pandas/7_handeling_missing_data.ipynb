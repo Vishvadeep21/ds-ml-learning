{
 "cells": [
  {
   "cell_type": "code",
   "execution_count": 124,
   "id": "8eb4c0c9-a38f-499c-bbb6-be3a08066eab",
   "metadata": {},
   "outputs": [
    {
     "name": "stdout",
     "output_type": "stream",
     "text": [
      "         day  temperature  windspeed   event\n",
      "0 2017-01-01         32.0        6.0    Rain\n",
      "1 2017-01-04          NaN        9.0   Sunny\n",
      "2 2017-01-05         28.0        NaN    Snow\n",
      "3 2017-01-06          NaN        7.0     NaN\n",
      "4 2017-01-07         32.0        NaN    Rain\n",
      "5 2017-01-08          NaN        NaN   Sunny\n",
      "6 2017-01-09          NaN        NaN     NaN\n",
      "7 2017-01-10         34.1        8.1  Cloudy\n",
      "8 2017-01-11         40.0       12.0   Sunny\n"
     ]
    }
   ],
   "source": [
    "import pandas as pd\n",
    "df=pd.read_csv(\"weather_data.csv\",parse_dates=[\"day\"])\n",
    "print(df)"
   ]
  },
  {
   "cell_type": "code",
   "execution_count": 3,
   "id": "8177ae5e-b8ea-4055-aefa-201c69122761",
   "metadata": {},
   "outputs": [
    {
     "name": "stdout",
     "output_type": "stream",
     "text": [
      "         day temperature windspeed   event\n",
      "0 2017-01-01        32.0       6.0    Rain\n",
      "1 2017-01-04           0       9.0   Sunny\n",
      "2 2017-01-05        28.0         0    Snow\n",
      "3 2017-01-06           0       7.0       0\n",
      "4 2017-01-07        32.0         0    Rain\n",
      "5 2017-01-08           0         0   Sunny\n",
      "6 2017-01-09           0         0       0\n",
      "7 2017-01-10        34.1       8.1  Cloudy\n",
      "8 2017-01-11        40.0      12.0   Sunny\n"
     ]
    }
   ],
   "source": [
    "df1=df.fillna(\"0\")      #this will create new df \n",
    "print(df1)"
   ]
  },
  {
   "cell_type": "code",
   "execution_count": 26,
   "id": "7bfea6e4-975f-4ff0-8572-c854ca9e4df8",
   "metadata": {},
   "outputs": [],
   "source": [
    "# df.fillna(\"0\",inplace=True)    #if we use inplace= parameter then this will edit the existing dataframe\n",
    "# print(df)"
   ]
  },
  {
   "cell_type": "code",
   "execution_count": 18,
   "id": "caf36387-5f7b-43ee-b3f4-a3581140fac9",
   "metadata": {},
   "outputs": [],
   "source": [
    "# df.fillna({\n",
    "#     'temperature':df.temperature.mean(),\n",
    "#     'windspeed': df.windspeed.mean()\n",
    "# },inplace=True)\n",
    "# print(df)"
   ]
  },
  {
   "cell_type": "code",
   "execution_count": 76,
   "id": "aeb48fc8-015a-4d04-be0e-5634310f8a3e",
   "metadata": {},
   "outputs": [
    {
     "name": "stdout",
     "output_type": "stream",
     "text": [
      "         day  temperature  windspeed   event\n",
      "0 2017-01-01         32.0        6.0    Rain\n",
      "1 2017-01-04         32.0        9.0   Sunny\n",
      "2 2017-01-05         28.0        9.0    Snow\n",
      "3 2017-01-06         28.0        7.0    Snow\n",
      "4 2017-01-07         32.0        7.0    Rain\n",
      "5 2017-01-08         32.0        7.0   Sunny\n",
      "6 2017-01-09         32.0        7.0   Sunny\n",
      "7 2017-01-10         34.1        8.1  Cloudy\n",
      "8 2017-01-11         40.0       12.0   Sunny\n"
     ]
    }
   ],
   "source": [
    "# df.ffill(inplace=True)\n",
    "# print(df)"
   ]
  },
  {
   "cell_type": "code",
   "execution_count": 73,
   "id": "e49fe9f7-c398-4eb8-8c2d-2ae9faf305e9",
   "metadata": {},
   "outputs": [
    {
     "name": "stdout",
     "output_type": "stream",
     "text": [
      "         day  temperature  windspeed   event\n",
      "0 2017-01-01         32.0        6.0    Rain\n",
      "1 2017-01-04         28.0        9.0   Sunny\n",
      "2 2017-01-05         28.0        7.0    Snow\n",
      "3 2017-01-06         32.0        7.0    Rain\n",
      "4 2017-01-07         32.0        NaN    Rain\n",
      "5 2017-01-08          NaN        NaN   Sunny\n",
      "6 2017-01-09         34.1        8.1  Cloudy\n",
      "7 2017-01-10         34.1        8.1  Cloudy\n",
      "8 2017-01-11         40.0       12.0   Sunny\n"
     ]
    }
   ],
   "source": [
    "# df.bfill(inplace=True,limit=1)    #limit will limit the replacing of na values by backward/forward\n",
    "# print(df)"
   ]
  },
  {
   "cell_type": "code",
   "execution_count": 125,
   "id": "a9d879ed-09cf-40a1-8dee-fdb0103cfd61",
   "metadata": {},
   "outputs": [
    {
     "name": "stdout",
     "output_type": "stream",
     "text": [
      "         day  temperature  windspeed   event\n",
      "0 2017-01-01         32.0        6.0    Rain\n",
      "1 2017-01-04          NaN        9.0   Sunny\n",
      "2 2017-01-05         28.0        NaN    Snow\n",
      "3 2017-01-06          NaN        7.0     NaN\n",
      "4 2017-01-07         32.0        NaN    Rain\n",
      "5 2017-01-08          NaN        NaN   Sunny\n",
      "6 2017-01-09          NaN        NaN     NaN\n",
      "7 2017-01-10         34.1        8.1  Cloudy\n",
      "8 2017-01-11         40.0       12.0   Sunny\n"
     ]
    }
   ],
   "source": [
    "# dfa=df.dropna(how='any')\n",
    "# print(dfa)\n",
    "# dfb=df.dropna(how='all')\n",
    "# print(dfb)\n",
    "dfc=df.dropna(thresh=3)\n",
    "print(df)"
   ]
  }
 ],
 "metadata": {
  "kernelspec": {
   "display_name": "Python 3 (ipykernel)",
   "language": "python",
   "name": "python3"
  },
  "language_info": {
   "codemirror_mode": {
    "name": "ipython",
    "version": 3
   },
   "file_extension": ".py",
   "mimetype": "text/x-python",
   "name": "python",
   "nbconvert_exporter": "python",
   "pygments_lexer": "ipython3",
   "version": "3.13.1"
  }
 },
 "nbformat": 4,
 "nbformat_minor": 5
}
