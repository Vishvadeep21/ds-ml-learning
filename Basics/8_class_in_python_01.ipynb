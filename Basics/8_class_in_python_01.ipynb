{
 "cells": [
  {
   "cell_type": "code",
   "execution_count": null,
   "id": "428588b1-7161-42e7-848d-412fdc2f22f5",
   "metadata": {},
   "outputs": [],
   "source": [
    "class calculator:\n",
    "    def calc():\n",
    "        while True:\n",
    "            m=int(input('''enter:\n",
    "            1 to add\n",
    "            2 to subtract\n",
    "            3 to multiply \\n::'''))\n",
    "            a=int(input(\"Enter first number\"))\n",
    "            b=int(input(\"Enter second number\"))\n",
    "            match m:\n",
    "                case 1:\n",
    "                    print(a+b)\n",
    "                case 2:\n",
    "                    print(a-b)\n",
    "                case 3:\n",
    "                    print(a*b)\n",
    "cls=calculator()\n",
    "print(calculator.calc()) "
   ]
  }
 ],
 "metadata": {
  "kernelspec": {
   "display_name": "Python 3 (ipykernel)",
   "language": "python",
   "name": "python3"
  },
  "language_info": {
   "codemirror_mode": {
    "name": "ipython",
    "version": 3
   },
   "file_extension": ".py",
   "mimetype": "text/x-python",
   "name": "python",
   "nbconvert_exporter": "python",
   "pygments_lexer": "ipython3",
   "version": "3.13.1"
  }
 },
 "nbformat": 4,
 "nbformat_minor": 5
}
