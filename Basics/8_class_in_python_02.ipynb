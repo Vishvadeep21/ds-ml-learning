{
 "cells": [
  {
   "cell_type": "code",
   "execution_count": 2,
   "id": "63fa4b27-6ea8-4f84-9259-1761bda9d1a6",
   "metadata": {},
   "outputs": [
    {
     "name": "stdout",
     "output_type": "stream",
     "text": [
      "Apple\n",
      "banana\n",
      "this is from fruits\n",
      "Apple\n",
      "banana\n"
     ]
    }
   ],
   "source": [
    "class fruit1:\n",
    "    def fun1(self):\n",
    "        print(\"Apple\")\n",
    "class fruit2:\n",
    "    def fun2(self):\n",
    "        print(\"banana\")\n",
    "\n",
    "class fruits(fruit1,fruit2):\n",
    "    def fun3(self):\n",
    "        print(\"this is from fruits\")\n",
    "        super().fun1()\n",
    "        super().fun2()\n",
    "\n",
    "f=fruits()\n",
    "f.fun1()\n",
    "f.fun2()\n",
    "f.fun3()"
   ]
  }
 ],
 "metadata": {
  "kernelspec": {
   "display_name": "Python 3 (ipykernel)",
   "language": "python",
   "name": "python3"
  },
  "language_info": {
   "codemirror_mode": {
    "name": "ipython",
    "version": 3
   },
   "file_extension": ".py",
   "mimetype": "text/x-python",
   "name": "python",
   "nbconvert_exporter": "python",
   "pygments_lexer": "ipython3",
   "version": "3.13.1"
  }
 },
 "nbformat": 4,
 "nbformat_minor": 5
}
